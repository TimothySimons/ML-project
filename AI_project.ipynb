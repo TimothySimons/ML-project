{
  "nbformat": 4,
  "nbformat_minor": 0,
  "metadata": {
    "colab": {
      "name": "AI_project.ipynb",
      "provenance": [],
      "collapsed_sections": [],
      "toc_visible": true
    },
    "kernelspec": {
      "name": "python3",
      "display_name": "Python 3"
    },
    "accelerator": "GPU"
  },
  "cells": [
    {
      "cell_type": "markdown",
      "metadata": {
        "id": "C4C6OB71Pl_Q"
      },
      "source": [
        "# **Artificial Intelligence - CSC4025Z**\n",
        "## Dataset\n",
        "The dataset chosen for this project is a collection of 5,574 SMS messages with accompanying tags that indicate whether a message is ham (genuine) or spam. The considered dataset is a skewed one with 86.83% of messages being ham. The data is provided as a simple csv file which can be found [here](https://archive.ics.uci.edu/ml/datasets/sms+spam+collection). \n",
        "\n"
      ]
    },
    {
      "cell_type": "code",
      "metadata": {
        "id": "AUmD1xcRMxIV",
        "colab": {
          "base_uri": "https://localhost:8080/",
          "height": 204
        },
        "outputId": "61fafe3f-76da-441d-86f5-20b483848e28"
      },
      "source": [
        "import pandas as pd\n",
        "\n",
        "df_raw = pd.read_csv('spam.csv')\n",
        "df = df_raw[['label', 'message']]\n",
        "df.head()"
      ],
      "execution_count": null,
      "outputs": [
        {
          "output_type": "execute_result",
          "data": {
            "text/html": [
              "<div>\n",
              "<style scoped>\n",
              "    .dataframe tbody tr th:only-of-type {\n",
              "        vertical-align: middle;\n",
              "    }\n",
              "\n",
              "    .dataframe tbody tr th {\n",
              "        vertical-align: top;\n",
              "    }\n",
              "\n",
              "    .dataframe thead th {\n",
              "        text-align: right;\n",
              "    }\n",
              "</style>\n",
              "<table border=\"1\" class=\"dataframe\">\n",
              "  <thead>\n",
              "    <tr style=\"text-align: right;\">\n",
              "      <th></th>\n",
              "      <th>label</th>\n",
              "      <th>message</th>\n",
              "    </tr>\n",
              "  </thead>\n",
              "  <tbody>\n",
              "    <tr>\n",
              "      <th>0</th>\n",
              "      <td>ham</td>\n",
              "      <td>Go until jurong point, crazy.. Available only ...</td>\n",
              "    </tr>\n",
              "    <tr>\n",
              "      <th>1</th>\n",
              "      <td>ham</td>\n",
              "      <td>Ok lar... Joking wif u oni...</td>\n",
              "    </tr>\n",
              "    <tr>\n",
              "      <th>2</th>\n",
              "      <td>spam</td>\n",
              "      <td>Free entry in 2 a wkly comp to win FA Cup fina...</td>\n",
              "    </tr>\n",
              "    <tr>\n",
              "      <th>3</th>\n",
              "      <td>ham</td>\n",
              "      <td>U dun say so early hor... U c already then say...</td>\n",
              "    </tr>\n",
              "    <tr>\n",
              "      <th>4</th>\n",
              "      <td>ham</td>\n",
              "      <td>Nah I don't think he goes to usf, he lives aro...</td>\n",
              "    </tr>\n",
              "  </tbody>\n",
              "</table>\n",
              "</div>"
            ],
            "text/plain": [
              "  label                                            message\n",
              "0   ham  Go until jurong point, crazy.. Available only ...\n",
              "1   ham                      Ok lar... Joking wif u oni...\n",
              "2  spam  Free entry in 2 a wkly comp to win FA Cup fina...\n",
              "3   ham  U dun say so early hor... U c already then say...\n",
              "4   ham  Nah I don't think he goes to usf, he lives aro..."
            ]
          },
          "metadata": {
            "tags": []
          },
          "execution_count": 46
        }
      ]
    },
    {
      "cell_type": "markdown",
      "metadata": {
        "id": "AkP0T2CDME71"
      },
      "source": [
        "## Problem Description\n",
        "Upon viewing the data, the prediction task becomes immediately clear. It is a binary classification problem in which messages must be classified as either spam or ham. In this project we will explore and evaluate a selection of models on their ability to perform this task. Of interest is not only the accuracy of these models but also the relative proportion of different types of errors. In a spam classifier, we would rather erroneously accept spam (*false negative*) than erroneously reject a genuine message (*false positive*). This is because, in general, the consequences of rejecting a genuine message are greater than receiving a spam message. To be specific, we would prefer higher *precision* values than higher *recall* values because we prefer fewer false positives.\n",
        "\n",
        "$Precision = \\frac{TP}{TP+FP}$  \n",
        "\n",
        "$Recall = \\frac{TP}{TP+FN}$\n",
        "\n",
        "## Message Pre-processing\n",
        "Prior to feature engineering or classification, the messages must undergo text normalisation. This ensures consistency across messages and allows common elements to show more readily. To do this, we remove punctuation and stop words from all messages. Stop words are simply common words in a language that provide little semantic meaning. The stopwords used are taken from the Python project [NLTK](https://www.nltk.org/).\n"
      ]
    },
    {
      "cell_type": "code",
      "metadata": {
        "id": "KecuH-mlL6YP",
        "colab": {
          "base_uri": "https://localhost:8080/",
          "height": 238
        },
        "outputId": "217cb434-f6ac-4ee6-d49f-f36459f93182"
      },
      "source": [
        "import string\n",
        "import nltk\n",
        "nltk.download('stopwords')\n",
        "\n",
        "def process(message):\n",
        "  stopwords = nltk.corpus.stopwords.words('english')\n",
        "  message = ''.join([c for c in message if c not in string.punctuation])\n",
        "  message = ' '.join([m.lower() for m in message.split()])\n",
        "  message = ' '.join([w for w in message.split() if w not in stopwords])\n",
        "  return message\n",
        "\n",
        "data = df.assign(processed_message=list(map(process, df['message'])))\n",
        "data = data.assign(target=[1 if l=='spam' else 0 for l in data['label']])\n",
        "data.head()"
      ],
      "execution_count": null,
      "outputs": [
        {
          "output_type": "stream",
          "text": [
            "[nltk_data] Downloading package stopwords to /root/nltk_data...\n",
            "[nltk_data]   Package stopwords is already up-to-date!\n"
          ],
          "name": "stdout"
        },
        {
          "output_type": "execute_result",
          "data": {
            "text/html": [
              "<div>\n",
              "<style scoped>\n",
              "    .dataframe tbody tr th:only-of-type {\n",
              "        vertical-align: middle;\n",
              "    }\n",
              "\n",
              "    .dataframe tbody tr th {\n",
              "        vertical-align: top;\n",
              "    }\n",
              "\n",
              "    .dataframe thead th {\n",
              "        text-align: right;\n",
              "    }\n",
              "</style>\n",
              "<table border=\"1\" class=\"dataframe\">\n",
              "  <thead>\n",
              "    <tr style=\"text-align: right;\">\n",
              "      <th></th>\n",
              "      <th>label</th>\n",
              "      <th>message</th>\n",
              "      <th>processed_message</th>\n",
              "      <th>target</th>\n",
              "    </tr>\n",
              "  </thead>\n",
              "  <tbody>\n",
              "    <tr>\n",
              "      <th>0</th>\n",
              "      <td>ham</td>\n",
              "      <td>Go until jurong point, crazy.. Available only ...</td>\n",
              "      <td>go jurong point crazy available bugis n great ...</td>\n",
              "      <td>0</td>\n",
              "    </tr>\n",
              "    <tr>\n",
              "      <th>1</th>\n",
              "      <td>ham</td>\n",
              "      <td>Ok lar... Joking wif u oni...</td>\n",
              "      <td>ok lar joking wif u oni</td>\n",
              "      <td>0</td>\n",
              "    </tr>\n",
              "    <tr>\n",
              "      <th>2</th>\n",
              "      <td>spam</td>\n",
              "      <td>Free entry in 2 a wkly comp to win FA Cup fina...</td>\n",
              "      <td>free entry 2 wkly comp win fa cup final tkts 2...</td>\n",
              "      <td>1</td>\n",
              "    </tr>\n",
              "    <tr>\n",
              "      <th>3</th>\n",
              "      <td>ham</td>\n",
              "      <td>U dun say so early hor... U c already then say...</td>\n",
              "      <td>u dun say early hor u c already say</td>\n",
              "      <td>0</td>\n",
              "    </tr>\n",
              "    <tr>\n",
              "      <th>4</th>\n",
              "      <td>ham</td>\n",
              "      <td>Nah I don't think he goes to usf, he lives aro...</td>\n",
              "      <td>nah dont think goes usf lives around though</td>\n",
              "      <td>0</td>\n",
              "    </tr>\n",
              "  </tbody>\n",
              "</table>\n",
              "</div>"
            ],
            "text/plain": [
              "  label  ... target\n",
              "0   ham  ...      0\n",
              "1   ham  ...      0\n",
              "2  spam  ...      1\n",
              "3   ham  ...      0\n",
              "4   ham  ...      0\n",
              "\n",
              "[5 rows x 4 columns]"
            ]
          },
          "metadata": {
            "tags": []
          },
          "execution_count": 47
        }
      ]
    },
    {
      "cell_type": "markdown",
      "metadata": {
        "id": "Xf1lJGnTJp04"
      },
      "source": [
        "## Baseline Classifiers\n",
        "Here, we will consider two baseline models, namely a random classifier and (what we've deemed) a relative frequency classifier. We will also look at two well-known (but far from state-of-the-art) techniques that are used to solve this problem, involving logistic regression and naive bayes. Each of these models will be evaluated againt a neural network. The metrics used for evaluation will be precision, recall and accuracy, though we are predominantly concerned with precision and accuracy. We will also elaborate on some of the complexities associated with each of the models. \n",
        "\n",
        "### Initialisation"
      ]
    },
    {
      "cell_type": "code",
      "metadata": {
        "id": "Tf5uaTBiyDoz"
      },
      "source": [
        "import numpy as np\n",
        "from sklearn import metrics\n",
        "from sklearn.feature_extraction.text import CountVectorizer\n",
        "from sklearn.model_selection import train_test_split\n",
        "\n",
        "np.random.seed(0)\n",
        "\n",
        "x, y = data['processed_message'], data['target']\n",
        "x_train, x_test, y_train, y_test = train_test_split(x, y)\n",
        "num_spam = sum(y_train)\n",
        "num_ham = len(y_train) - num_spam\n",
        "\n",
        "# vectorise input for sklearn classifiers.\n",
        "vectorizer = CountVectorizer()\n",
        "x_train_m = vectorizer.fit_transform(x_train)\n",
        "x_test_m = vectorizer.transform(x_test)"
      ],
      "execution_count": null,
      "outputs": []
    },
    {
      "cell_type": "markdown",
      "metadata": {
        "id": "2IiqOwFmiagE"
      },
      "source": [
        "### Random Classifier\n",
        "First, as a sanity check, we'll ensure that a random classifier achieves about 50% accuracy on our test data. You'll notice higher recall values than precision values. This is because there are more ham messages than spam messages in our test data (resulting in more *false positives* than *false negatives* from our random classifier)."
      ]
    },
    {
      "cell_type": "code",
      "metadata": {
        "id": "j7K2Tm2PS8Kj",
        "colab": {
          "base_uri": "https://localhost:8080/"
        },
        "outputId": "f4c2a75a-d7e0-4e1f-ffdc-20f6bbf9d1e6"
      },
      "source": [
        "import random\n",
        "\n",
        "random.seed(0)\n",
        "\n",
        "y_pred = [random.randint(0,1) for _ in range(len(y_test))]\n",
        "print('Accuracy: %.4f' % metrics.accuracy_score(y_test, y_pred))\n",
        "print('Precision: %.4f' % metrics.precision_score(y_test, y_pred))\n",
        "print('Recall: %.4f' % metrics.recall_score(y_test, y_pred))"
      ],
      "execution_count": null,
      "outputs": [
        {
          "output_type": "stream",
          "text": [
            "Accuracy: 0.4989\n",
            "Precision: 0.1406\n",
            "Recall: 0.4975\n"
          ],
          "name": "stdout"
        }
      ]
    },
    {
      "cell_type": "markdown",
      "metadata": {
        "id": "iZ-5qFBcUk-V"
      },
      "source": [
        "### Relative Frequency Classifier\n",
        "We now device a model we've called the relative frequency classifier. This primitive model will serve as the baseline for future comparisons. Before diving into implementation details, lets take a look at the relative frequencies of the 10 most common spam words in our training data. "
      ]
    },
    {
      "cell_type": "code",
      "metadata": {
        "id": "apw6Pz06b9jV"
      },
      "source": [
        "from collections import Counter\n",
        "\n",
        "def bag_of_words(messages):\n",
        "  BoW = Counter()\n",
        "  for m in messages:\n",
        "    BoW.update(m.split())\n",
        "  return BoW\n",
        "\n",
        "train_spam = [m for m,t in zip(x_train, y_train) if t == 1]\n",
        "train_ham = [m for m,t in zip(x_train, y_train) if t == 0]\n",
        "train_ham_words = bag_of_words(train_ham)\n",
        "train_spam_words = bag_of_words(train_spam)"
      ],
      "execution_count": null,
      "outputs": []
    },
    {
      "cell_type": "markdown",
      "metadata": {
        "id": "p0vBLjuioxbg"
      },
      "source": [
        "The grouped bar plot below is modified from this [matplotlib tutorial](https://matplotlib.org/3.1.1/gallery/lines_bars_and_markers/barchart.html#sphx-glr-gallery-lines-bars-and-markers-barchart-py).\n"
      ]
    },
    {
      "cell_type": "code",
      "metadata": {
        "id": "Y6F5DNI5nPeW",
        "colab": {
          "base_uri": "https://localhost:8080/",
          "height": 297
        },
        "outputId": "a94960d4-b3ad-482d-f628-bf1af569bb32"
      },
      "source": [
        "import matplotlib\n",
        "import matplotlib.pyplot as plt\n",
        "\n",
        "def plot_group_bar(target_words, aux_words, num_t, num_a):\n",
        "  plt.style.use('seaborn-whitegrid')\n",
        "  most_common = target_words.most_common(10)\n",
        "  keys = [k for k, _ in most_common]\n",
        "  \n",
        "  target_values = [round(target_words[w]/num_t, 2) for w in keys]\n",
        "  aux_values = [round(aux_words[w]/num_a, 2) for w in keys]\n",
        "  x = np.arange(len(keys))\n",
        "  width = 0.35\n",
        "  fig, ax = plt.subplots()\n",
        "  rects1 = ax.bar(x - width/2, target_values, width, label='Spam', alpha=0.65)\n",
        "  rects2 = ax.bar(x + width/2, aux_values, width, label='Ham', alpha=0.65)\n",
        "  ax.set_ylabel('Relative Frequency')\n",
        "  ax.set_title('Relative frequency grouped by message type')\n",
        "  ax.set_xticks(x)\n",
        "  ax.set_xticklabels(keys)\n",
        "  ax.legend()\n",
        "  def autolabel(rects):\n",
        "      for rect in rects:\n",
        "          height = rect.get_height()\n",
        "          ax.annotate('{}'.format(height),\n",
        "                      xy=(rect.get_x() + rect.get_width() / 2, height),\n",
        "                      xytext=(0, 3),\n",
        "                      textcoords=\"offset points\",\n",
        "                      fontsize=8.5,\n",
        "                      ha='center', va='bottom')\n",
        "  autolabel(rects1)\n",
        "  autolabel(rects2)\n",
        "  fig.tight_layout()\n",
        "\n",
        "plot_group_bar(train_spam_words, train_ham_words, num_spam, num_ham)\n"
      ],
      "execution_count": null,
      "outputs": [
        {
          "output_type": "display_data",
          "data": {
            "image/png": "[encoded data removed]",
            "text/plain": [
              "<Figure size 432x288 with 1 Axes>"
            ]
          },
          "metadata": {
            "tags": []
          }
        }
      ]
    },
    {
      "cell_type": "markdown",
      "metadata": {
        "id": "DlUP8AcrtUC2"
      },
      "source": [
        "The model in question classifies each message by looking at the relative frequency with which words in the message appear in the spam training data versus in the ham training data. If the sum of relative frequencies are greater for spam words than ham words, then the message is classified as spam."
      ]
    },
    {
      "cell_type": "code",
      "metadata": {
        "id": "uEm7r12k9bxn",
        "colab": {
          "base_uri": "https://localhost:8080/"
        },
        "outputId": "2e094b24-ff7e-4df8-ed46-c2ca1c211ccb"
      },
      "source": [
        "def is_spam(message, spam_words, ham_words):\n",
        "  spam_count = 0; ham_count = 0\n",
        "  for word in message.split():\n",
        "    if word in ham_words:\n",
        "      ham_count += ham_words[word]\n",
        "    if word in spam_words:\n",
        "      spam_count += spam_words[word]\n",
        "  return spam_count > ham_count\n",
        "\n",
        "def norm(words, weight):\n",
        "  return {w: words[w] * weight for w in words}\n",
        "\n",
        "norm_s = norm(train_spam_words, 1/num_spam)\n",
        "norm_h = norm(train_ham_words, 1/num_ham)\n",
        "y_pred = [1 if is_spam(msg, norm_s, norm_h) else 0 for msg in x_test]\n",
        "\n",
        "print('Accuracy: %.4f' % metrics.accuracy_score(y_test, y_pred))\n",
        "print('Precision: %.4f' % metrics.precision_score(y_test, y_pred))\n",
        "print('Recall: %.4f' % metrics.recall_score(y_test, y_pred))\n"
      ],
      "execution_count": null,
      "outputs": [
        {
          "output_type": "stream",
          "text": [
            "Accuracy: 0.7423\n",
            "Precision: 0.3533\n",
            "Recall: 0.9898\n"
          ],
          "name": "stdout"
        }
      ]
    },
    {
      "cell_type": "markdown",
      "metadata": {
        "id": "OWtxfWc_RF6S"
      },
      "source": [
        "From looking at the resulting scores we can deduce that the relative frequency classifier produces many *false positives* (with few *false negatives*). This shortfall can be alleviated by varying the relative weights of spam word and ham word frequencies. In fact, by doing this, we can visualise a well-known tradeoff between precision and recall. "
      ]
    },
    {
      "cell_type": "code",
      "metadata": {
        "id": "lgn-vTFa0eY6",
        "colab": {
          "base_uri": "https://localhost:8080/",
          "height": 565
        },
        "outputId": "6346b3c8-6354-4cce-d00d-5fdd37acacf4"
      },
      "source": [
        "def plot(xvalues, yvalues, title, labels, col):\n",
        "  plt.style.use('seaborn-whitegrid')\n",
        "  plt.title(title)\n",
        "  plt.xlabel(labels[0])\n",
        "  plt.ylabel(labels[1])\n",
        "  plt.ylim(0, 1.1)\n",
        "  plt.plot(xvalues, \n",
        "           yvalues, \n",
        "           marker='s',\n",
        "           markersize=5,\n",
        "           color=col,\n",
        "           alpha=0.65)\n",
        "  plt.show()\n",
        "\n",
        "accuracy_scores = []\n",
        "precision_scores = []\n",
        "recall_scores = []\n",
        "weights = np.arange(0.05, 1, 0.1).tolist()\n",
        "for w in weights:\n",
        "    norm_s = norm(train_spam_words, w)\n",
        "    norm_h = norm(train_ham_words, 1 - w)\n",
        "    y_pred = [1 if is_spam(msg, norm_s, norm_h) else 0 for msg in x_train]\n",
        "    precision_scores.append(metrics.precision_score(y_train, y_pred))\n",
        "    recall_scores.append(metrics.recall_score(y_train, y_pred))\n",
        "    accuracy_scores.append(metrics.accuracy_score(y_train, y_pred))\n",
        "\n",
        "plot(weights, \n",
        "     accuracy_scores, \n",
        "     title='Accuracy w/ varing weights', \n",
        "     labels=['s_weight = 1 - h_weight', 'accuracy'],\n",
        "     col='tab:blue')\n",
        "\n",
        "plot(recall_scores, \n",
        "     precision_scores, \n",
        "     title='Precision-Recall Curve', \n",
        "     labels=['recall', 'precision'],\n",
        "     col='tab:orange')"
      ],
      "execution_count": null,
      "outputs": [
        {
          "output_type": "display_data",
          "data": {
            "image/png": "[encoded data removed]",
            "text/plain": [
              "<Figure size 432x288 with 1 Axes>"
            ]
          },
          "metadata": {
            "tags": []
          }
        },
        {
          "output_type": "display_data",
          "data": {
            "image/png": "[encoded data removed]",
            "text/plain": [
              "<Figure size 432x288 with 1 Axes>"
            ]
          },
          "metadata": {
            "tags": []
          }
        }
      ]
    },
    {
      "cell_type": "markdown",
      "metadata": {
        "id": "uUuP8Vt0A0ai"
      },
      "source": [
        "The highest accuracy score on the training data is 0.9432 with corresponding precision and recall scores of 0.8656 and 0.6723 respectively. The weights that achieve these scores are 0.55 for spam frequencies and 0.45 for ham frequencies. When using these same weights for predictions on the test data we get considerably improved scores."
      ]
    },
    {
      "cell_type": "code",
      "metadata": {
        "id": "QX1efEF4TXN3",
        "colab": {
          "base_uri": "https://localhost:8080/"
        },
        "outputId": "d0252194-789a-4dc3-a819-0cd12f3e0a01"
      },
      "source": [
        "norm_s = norm(train_spam_words, 0.55)\n",
        "norm_h = norm(train_ham_words, 0.45)\n",
        "y_pred = [1 if is_spam(msg, norm_s, norm_h) else 0 for msg in x_test]\n",
        "\n",
        "print('Accuracy: %.4f' % metrics.accuracy_score(y_test, y_pred))\n",
        "print('Precision: %.4f' % metrics.precision_score(y_test, y_pred))\n",
        "print('Recall: %.4f' % metrics.recall_score(y_test, y_pred))"
      ],
      "execution_count": null,
      "outputs": [
        {
          "output_type": "stream",
          "text": [
            "Accuracy: 0.9404\n",
            "Precision: 0.8851\n",
            "Recall: 0.6650\n"
          ],
          "name": "stdout"
        }
      ]
    },
    {
      "cell_type": "markdown",
      "metadata": {
        "id": "5dbt2iyJ_Fqr"
      },
      "source": [
        "### Logistic Regression\n",
        "One of two models discussed in lectures is that of logistic regression. We will look at an 'out-of-the-box' model provided by [scikit-learn](https://scikit-learn.org/) which applies regularisation by default. This model produces high precision scores which, as you can remember, is a characteristic we consider favourable. "
      ]
    },
    {
      "cell_type": "code",
      "metadata": {
        "id": "FIGUYcFxIE7z",
        "colab": {
          "base_uri": "https://localhost:8080/"
        },
        "outputId": "bb919f32-6088-47f2-8d5f-1a900b26cc75"
      },
      "source": [
        "from sklearn.linear_model import LogisticRegression\n",
        "\n",
        "logistic_regression = LogisticRegression()\n",
        "logistic_regression.fit(x_train_m, y_train)\n",
        "y_pred = logistic_regression.predict(x_test_m)\n",
        "\n",
        "print('Accuracy: %.4f' % metrics.accuracy_score(y_test, y_pred))\n",
        "print('Precision: %.4f' % metrics.precision_score(y_test, y_pred))\n",
        "print('Recall: %.4f' % metrics.recall_score(y_test, y_pred))"
      ],
      "execution_count": null,
      "outputs": [
        {
          "output_type": "stream",
          "text": [
            "Accuracy: 0.9749\n",
            "Precision: 0.9939\n",
            "Recall: 0.8274\n"
          ],
          "name": "stdout"
        }
      ]
    },
    {
      "cell_type": "markdown",
      "metadata": {
        "id": "PsfX1NOapgAn"
      },
      "source": [
        "### Naive Bayes\n",
        "The other model explored in lectures is the naive Bayes classifier. Here, we use a naive Bayes algorithm from scikit-learn implemented for multinomially distributed data. This algorithm is considered one of classic naive Bayes variants used for text classification (where the data is represented as word vector counts). This model achieves great scores all round.\n"
      ]
    },
    {
      "cell_type": "code",
      "metadata": {
        "id": "vR4f2BobplU4",
        "colab": {
          "base_uri": "https://localhost:8080/"
        },
        "outputId": "62635f79-e279-4593-d07e-8484f913d9c4"
      },
      "source": [
        "from sklearn.naive_bayes import MultinomialNB\n",
        "\n",
        "np.random.seed(0)\n",
        "multinomial_nb = MultinomialNB()\n",
        "multinomial_nb.fit(x_train_m, y_train)\n",
        "y_pred = multinomial_nb.predict(x_test_m)\n",
        "\n",
        "print('Accuracy: %.4f' % metrics.accuracy_score(y_test, y_pred))\n",
        "print('Precision: %.4f' % metrics.precision_score(y_test, y_pred))\n",
        "print('Recall: %.4f' % metrics.recall_score(y_test, y_pred))"
      ],
      "execution_count": null,
      "outputs": [
        {
          "output_type": "stream",
          "text": [
            "Accuracy: 0.9835\n",
            "Precision: 0.9728\n",
            "Recall: 0.9086\n"
          ],
          "name": "stdout"
        }
      ]
    },
    {
      "cell_type": "markdown",
      "metadata": {
        "id": "qQGxjYkpACiw"
      },
      "source": [
        "## Neural Network\n",
        "We will now implement a simple feedforward neural network and see how it fairs against the previously explored methods."
      ]
    },
    {
      "cell_type": "markdown",
      "metadata": {
        "id": "i-Nk_giCh_bV"
      },
      "source": [
        "### Initialisation\n",
        "Before we can build our model, we need training, validation and test sets. The training set used in previous models is split to produce a new training set and a validation set. The test set is preserved for final model evaluation."
      ]
    },
    {
      "cell_type": "code",
      "metadata": {
        "id": "RLIH7ECZh_B-"
      },
      "source": [
        "import numpy as np\n",
        "import torch\n",
        "import torch.nn as nn\n",
        "import torch.nn.functional as F\n",
        "import torch.optim as optim\n",
        "from scipy import stats\n",
        "from sklearn import metrics\n",
        "from sklearn.model_selection import train_test_split\n",
        "\n",
        "np.random.seed(0)\n",
        "torch.manual_seed(0)\n",
        "\n",
        "# x, y = data['processed_message'], data['target']\n",
        "# x_train, x_test, y_train, y_test = train_test_split(x, y)\n",
        "x_train_orig, y_train_orig = x_train.copy(), y_train.copy()\n",
        "x_train, x_val, y_train, y_val = train_test_split(x_train, y_train)\n",
        "\n",
        "train_spam = [m for m,t in zip(x_train, y_train) if t == 1]\n",
        "train_ham = [m for m,t in zip(x_train, y_train) if t == 0]\n",
        "train_spam_words = bag_of_words(train_spam)\n",
        "train_ham_words = bag_of_words(train_ham)\n",
        "train_words = train_spam_words + train_ham_words"
      ],
      "execution_count": null,
      "outputs": []
    },
    {
      "cell_type": "markdown",
      "metadata": {
        "id": "ZsWcIsPLm-p1"
      },
      "source": [
        "### Architectures\n",
        "The architecture of the model comprises an input layer, two hidden layers and an output layer. Each input to the neural network represents a message and is a vector whose size is the same as the vocabulary size of the training data. Each element in the vector contains the frequency with which a word in the message appears in the training data. The output layer produces the probability that a message is a spam message and the probability that it is a ham message."
      ]
    },
    {
      "cell_type": "code",
      "metadata": {
        "id": "YgtVjpM3nCyh"
      },
      "source": [
        "class Net(nn.Module):\n",
        "  def __init__(self, num_labels, vocab_size, l1=100, l2=50):\n",
        "    super(Net, self).__init__()\n",
        "    self.fc1 = nn.Linear(vocab_size, l1)\n",
        "    self.fc2 = nn.Linear(l1, l2)\n",
        "    self.fc3 = nn.Linear(l2, num_labels)\n",
        "\n",
        "  def forward(self, x):\n",
        "    x = F.relu(self.fc1(x))\n",
        "    x = F.relu(self.fc2(x))\n",
        "    x = F.softmax(self.fc3(x), dim=1)\n",
        "    return x\n",
        "\n",
        "num_labels = 2\n",
        "vocab_size = len(train_words)\n",
        "model = Net(num_labels, vocab_size)"
      ],
      "execution_count": null,
      "outputs": []
    },
    {
      "cell_type": "markdown",
      "metadata": {
        "id": "K6Vr7sImjdtu"
      },
      "source": [
        "###Train and predict\n",
        "We now define the `train` and `predict` methods of our model. We explore two optimisation algorithms when training our model, namely SGD (stochastic gradient descent) and Adam's method. From a few simple test runs, we find that the Adam's method performs better than SGD. This is primarily because SGD is prone to overfitting and performs poorly on the validation set when trained for many epochs. Adam's method on the other hand doesn't see much degradation in performance when trained for many epochs. This is because PyTorch's implementation of Adam's method applies L2 regularization which helps prevent overfitting. To speed up training time we made use of Google Colab's GPU runtime environment and PyTorch's data parallelism constructs."
      ]
    },
    {
      "cell_type": "code",
      "metadata": {
        "id": "TuJ-qNz7jhbN"
      },
      "source": [
        "def make_vector(message, words):\n",
        "  vec = torch.zeros(len(words))\n",
        "  for word in message:\n",
        "    vec[words[word]] += 1\n",
        "  return vec.view(1, -1)\n",
        "\n",
        "def make_target(target):\n",
        "  return torch.Tensor([[target, 1 - target]])\n",
        "\n",
        "def train(model, x_train, y_train, x_val=None, y_val=None, epochs=10, lr=0.001):\n",
        "  device = \"cpu\"\n",
        "  if torch.cuda.is_available():\n",
        "    device = \"cuda:0\"\n",
        "    if torch.cuda.device_count() > 1:\n",
        "      model = nn.DataParallel(model)\n",
        "  model.to(device)\n",
        "\n",
        "  loss_function = nn.BCELoss()\n",
        "  optimizer = optim.Adam(model.parameters(), lr=lr)\n",
        "  # optimizer = optim.SGD(model.parameters(), lr=lr, momentum=0.9)\n",
        "\n",
        "  running_losses, val_losses = [], []\n",
        "  for epoch in range(epochs):\n",
        "    running_loss = 0.0\n",
        "    val_loss = 0.0\n",
        "    for instance, target in zip(x_train, y_train):\n",
        "      vec = make_vector(instance, train_words)\n",
        "      target = make_target(target)\n",
        "      vec, target = vec.to(device), target.to(device)\n",
        "      model.zero_grad()\n",
        "      y_pred = model(vec)\n",
        "      loss = loss_function(y_pred, target)\n",
        "      running_loss += loss.item()\n",
        "      loss.backward()\n",
        "      optimizer.step()\n",
        "      \n",
        "    # validation loss\n",
        "    if x_val is not None:\n",
        "      val_loss = 0\n",
        "      for instance, target in zip(x_val, y_val):\n",
        "        with torch.no_grad():\n",
        "          vec = make_vector(instance, train_words)\n",
        "          target = make_target(target)\n",
        "          vec, target = vec.to(device), target.to(device)\n",
        "          y_pred = model(vec)\n",
        "          loss = loss_function(y_pred, target)\n",
        "          val_loss += loss.item()\n",
        "      \n",
        "    running_losses.append(running_loss)\n",
        "    val_losses.append(val_loss)\n",
        "\n",
        "  running_losses = [l/len(x_train) for l in running_losses]\n",
        "  if x_val is not None:\n",
        "    val_losses = [l/len(x_val) for l in val_losses]\n",
        "  return running_losses, val_losses\n",
        "\n",
        "\n",
        "def predict(model, x, train_words):\n",
        "  device = \"cuda:0\" if torch.cuda.is_available() else 'cpu'\n",
        "  with torch.no_grad():\n",
        "    y_pred = []\n",
        "    for instance in x:\n",
        "      vec = make_vector(instance, train_words).to(device)\n",
        "      probs = model(vec)\n",
        "      if probs[0][0] > probs[0][1]:\n",
        "        y_pred.append(1)\n",
        "      else:\n",
        "        y_pred.append(0)\n",
        "  return y_pred"
      ],
      "execution_count": null,
      "outputs": []
    },
    {
      "cell_type": "markdown",
      "metadata": {
        "id": "YJNyoVaZFk6j"
      },
      "source": [
        "### Hyperparameter tuning\n",
        "For hyperparameter tuning, we opted for randomised search optimisation. The main reason for this approach is the computational time needed to train the neural network. By using randomised search, we can specify a computational budget in the form of `num_iter`, which allows the search time to be independent of the number of parameters and possible values. All explored parameter values and corresponding metric scores are saved to a `results.csv` file for further analysis. The randomised search optimisation is conducted over 50 search iterations and is evaluated using the validation set.\n",
        "\n"
      ]
    },
    {
      "cell_type": "code",
      "metadata": {
        "id": "lCj6glbnFnVK"
      },
      "source": [
        "param_dist = {\n",
        "    'l1': stats.randint(2, 1500),\n",
        "    'l2': stats.randint(2, 500),\n",
        "    'lr': stats.loguniform(1e-5, 1e-2),\n",
        "    'epochs': stats.randint(1, 30)\n",
        "}\n",
        "\n",
        "columns = list(param_dist.keys()) + ['precision', 'reccall', 'accuracy']\n",
        "accuracy, precision, recall = [], [], []\n",
        "num_iter = 0 # change to desired number of search iterations\n",
        "for _ in range(num_iter):\n",
        "  l1 = param_dist['l1'].rvs(1)[0]\n",
        "  l2 = param_dist['l2'].rvs(1)[0]\n",
        "  lr = param_dist['lr'].rvs(1)[0]\n",
        "  epochs = param_dist['epochs'].rvs(1)[0]\n",
        "\n",
        "  model = Net(num_labels, vocab_size, l1, l2)\n",
        "  train(model, x_train, y_train, epochs=epochs, lr=lr)\n",
        "  y_pred = predict(model, x_val, train_words)\n",
        "\n",
        "  precision = metrics.precision_score(y_val, y_pred)\n",
        "  recall = metrics.recall_score(y_val, y_pred)\n",
        "  accuracy = metrics.accuracy_score(y_val, y_pred)\n",
        "\n",
        "  r = pd.DataFrame([[l1, l2, lr, epochs, precision, recall, accuracy]], \n",
        "                   columns=columns)\n",
        "  r.to_csv('results.csv', mode='a', header=False)"
      ],
      "execution_count": null,
      "outputs": []
    },
    {
      "cell_type": "markdown",
      "metadata": {
        "id": "yyJ5cb9KG7EO"
      },
      "source": [
        "We use a correlation matrix to see the effect of different parameter values on model performance. We're interested in is the top right hand corner of the correlation matrix, where we can see the correlation coefficients between parameter values and resulting metric scores. We notice that smaller learning rates are generally preferred.\n"
      ]
    },
    {
      "cell_type": "code",
      "metadata": {
        "id": "8NV6LKErG76e",
        "colab": {
          "base_uri": "https://localhost:8080/",
          "height": 266
        },
        "outputId": "6bea02ad-ac85-4c62-beaa-80dc223525e6"
      },
      "source": [
        "import seaborn as sn\n",
        "\n",
        "df_results = pd.read_csv('results.csv')\n",
        "df_results = df_results.drop(columns=['Unnamed: 0'])\n",
        "\n",
        "# needed due to random seed - better do to all search runs in a single execution\n",
        "df_results = df_results.drop_duplicates()\n",
        "\n",
        "corr_matrix = df_results.corr()\n",
        "sn.heatmap(corr_matrix, annot=True)\n",
        "plt.show()"
      ],
      "execution_count": null,
      "outputs": [
        {
          "output_type": "display_data",
          "data": {
            "image/png": "[encoded data removed]",
            "text/plain": [
              "<Figure size 432x288 with 2 Axes>"
            ]
          },
          "metadata": {
            "tags": []
          }
        }
      ]
    },
    {
      "cell_type": "markdown",
      "metadata": {
        "id": "YGorwiiO-1gP"
      },
      "source": [
        "As we prefer higher precision scores over recall scores, we are going to isolate the top 10 runs with respect to precision. We notice that top scoring parameters comprise smaller hidden layer sizes, very small learning rates and many training epochs. Going forward we will choose the parameters of our best scoring run with respect to precision."
      ]
    },
    {
      "cell_type": "code",
      "metadata": {
        "id": "8FQVXGLyAEZ_",
        "colab": {
          "base_uri": "https://localhost:8080/",
          "height": 359
        },
        "outputId": "220543dc-6826-4d75-df8b-4b064e70bb63"
      },
      "source": [
        "df_results = df_results.sort_values(['precision'], ascending=False)\n",
        "df_results.head(10)"
      ],
      "execution_count": null,
      "outputs": [
        {
          "output_type": "execute_result",
          "data": {
            "text/html": [
              "<div>\n",
              "<style scoped>\n",
              "    .dataframe tbody tr th:only-of-type {\n",
              "        vertical-align: middle;\n",
              "    }\n",
              "\n",
              "    .dataframe tbody tr th {\n",
              "        vertical-align: top;\n",
              "    }\n",
              "\n",
              "    .dataframe thead th {\n",
              "        text-align: right;\n",
              "    }\n",
              "</style>\n",
              "<table border=\"1\" class=\"dataframe\">\n",
              "  <thead>\n",
              "    <tr style=\"text-align: right;\">\n",
              "      <th></th>\n",
              "      <th>l1</th>\n",
              "      <th>l2</th>\n",
              "      <th>lr</th>\n",
              "      <th>epochs</th>\n",
              "      <th>precision</th>\n",
              "      <th>recall</th>\n",
              "      <th>accuracy</th>\n",
              "    </tr>\n",
              "  </thead>\n",
              "  <tbody>\n",
              "    <tr>\n",
              "      <th>49</th>\n",
              "      <td>105</td>\n",
              "      <td>48</td>\n",
              "      <td>0.000025</td>\n",
              "      <td>14</td>\n",
              "      <td>0.982301</td>\n",
              "      <td>0.804348</td>\n",
              "      <td>0.972249</td>\n",
              "    </tr>\n",
              "    <tr>\n",
              "      <th>16</th>\n",
              "      <td>27</td>\n",
              "      <td>77</td>\n",
              "      <td>0.000040</td>\n",
              "      <td>13</td>\n",
              "      <td>0.982301</td>\n",
              "      <td>0.804348</td>\n",
              "      <td>0.972249</td>\n",
              "    </tr>\n",
              "    <tr>\n",
              "      <th>7</th>\n",
              "      <td>282</td>\n",
              "      <td>474</td>\n",
              "      <td>0.000295</td>\n",
              "      <td>27</td>\n",
              "      <td>0.974790</td>\n",
              "      <td>0.840580</td>\n",
              "      <td>0.976077</td>\n",
              "    </tr>\n",
              "    <tr>\n",
              "      <th>10</th>\n",
              "      <td>461</td>\n",
              "      <td>161</td>\n",
              "      <td>0.000016</td>\n",
              "      <td>27</td>\n",
              "      <td>0.974359</td>\n",
              "      <td>0.826087</td>\n",
              "      <td>0.974163</td>\n",
              "    </tr>\n",
              "    <tr>\n",
              "      <th>47</th>\n",
              "      <td>667</td>\n",
              "      <td>243</td>\n",
              "      <td>0.000016</td>\n",
              "      <td>23</td>\n",
              "      <td>0.974359</td>\n",
              "      <td>0.826087</td>\n",
              "      <td>0.974163</td>\n",
              "    </tr>\n",
              "    <tr>\n",
              "      <th>22</th>\n",
              "      <td>731</td>\n",
              "      <td>47</td>\n",
              "      <td>0.001623</td>\n",
              "      <td>7</td>\n",
              "      <td>0.973684</td>\n",
              "      <td>0.804348</td>\n",
              "      <td>0.971292</td>\n",
              "    </tr>\n",
              "    <tr>\n",
              "      <th>12</th>\n",
              "      <td>1044</td>\n",
              "      <td>484</td>\n",
              "      <td>0.000017</td>\n",
              "      <td>1</td>\n",
              "      <td>0.963964</td>\n",
              "      <td>0.775362</td>\n",
              "      <td>0.966507</td>\n",
              "    </tr>\n",
              "    <tr>\n",
              "      <th>14</th>\n",
              "      <td>333</td>\n",
              "      <td>465</td>\n",
              "      <td>0.000049</td>\n",
              "      <td>18</td>\n",
              "      <td>0.959677</td>\n",
              "      <td>0.862319</td>\n",
              "      <td>0.977033</td>\n",
              "    </tr>\n",
              "    <tr>\n",
              "      <th>45</th>\n",
              "      <td>841</td>\n",
              "      <td>181</td>\n",
              "      <td>0.000039</td>\n",
              "      <td>21</td>\n",
              "      <td>0.959016</td>\n",
              "      <td>0.847826</td>\n",
              "      <td>0.975120</td>\n",
              "    </tr>\n",
              "    <tr>\n",
              "      <th>4</th>\n",
              "      <td>1273</td>\n",
              "      <td>139</td>\n",
              "      <td>0.000960</td>\n",
              "      <td>14</td>\n",
              "      <td>0.957983</td>\n",
              "      <td>0.826087</td>\n",
              "      <td>0.972249</td>\n",
              "    </tr>\n",
              "  </tbody>\n",
              "</table>\n",
              "</div>"
            ],
            "text/plain": [
              "      l1   l2        lr  epochs  precision    recall  accuracy\n",
              "49   105   48  0.000025      14   0.982301  0.804348  0.972249\n",
              "16    27   77  0.000040      13   0.982301  0.804348  0.972249\n",
              "7    282  474  0.000295      27   0.974790  0.840580  0.976077\n",
              "10   461  161  0.000016      27   0.974359  0.826087  0.974163\n",
              "47   667  243  0.000016      23   0.974359  0.826087  0.974163\n",
              "22   731   47  0.001623       7   0.973684  0.804348  0.971292\n",
              "12  1044  484  0.000017       1   0.963964  0.775362  0.966507\n",
              "14   333  465  0.000049      18   0.959677  0.862319  0.977033\n",
              "45   841  181  0.000039      21   0.959016  0.847826  0.975120\n",
              "4   1273  139  0.000960      14   0.957983  0.826087  0.972249"
            ]
          },
          "metadata": {
            "tags": []
          },
          "execution_count": 62
        }
      ]
    },
    {
      "cell_type": "code",
      "metadata": {
        "id": "DCEnh3lvGgLo",
        "colab": {
          "base_uri": "https://localhost:8080/",
          "height": 291
        },
        "outputId": "46116cb3-2431-4d4d-8ae3-1ee13a08e0d5"
      },
      "source": [
        "def plot(df, title, labels):\n",
        "  plt.style.use('seaborn-whitegrid')\n",
        "  plt.title(title)\n",
        "  plt.xlabel(labels[0])\n",
        "  plt.ylabel(labels[1])\n",
        "  xvalues = df['epochs']\n",
        "  del df['epochs']\n",
        "  for column in df.columns:\n",
        "    yvalues = df[column]\n",
        "    plt.plot(xvalues, \n",
        "            yvalues, \n",
        "            marker='s',\n",
        "            markersize=5,\n",
        "            alpha=0.65)\n",
        "  plt.savefig('learning.png')\n",
        "  plt.show()\n",
        "\n",
        "l1, l2 = 100, 50\n",
        "lr = 0.000025\n",
        "epochs = 30\n",
        "model = Net(num_labels, vocab_size, l1, l2)\n",
        "losses, val_losses = train(model, x_train, \n",
        "                           y_train, x_val, y_val,\n",
        "                           epochs=epochs, \n",
        "                           lr=lr)\n",
        "df = pd.DataFrame()\n",
        "df['epochs'] = [i+1 for i in range(epochs)]\n",
        "df['running_losses'] = losses\n",
        "df['val_losses'] = val_losses\n",
        "plot(df, 'Learning Curve', ('Time (epochs)', 'BCE Loss'))"
      ],
      "execution_count": null,
      "outputs": [
        {
          "output_type": "display_data",
          "data": {
            "image/png": "[encoded data removed]",
            "text/plain": [
              "<Figure size 432x288 with 1 Axes>"
            ]
          },
          "metadata": {
            "tags": []
          }
        }
      ]
    },
    {
      "cell_type": "markdown",
      "metadata": {
        "id": "aT5uCotyTVof"
      },
      "source": [
        "From the learning curves above we can deduce that the validation set doesn't benefit from epochs beyond 10. We will choose this as the number of epochs to train the model for final evaluation on our test set."
      ]
    },
    {
      "cell_type": "markdown",
      "metadata": {
        "id": "Bto1b0qiUenG"
      },
      "source": [
        "### Performance\n",
        "To summarise, here are the parameters that produced the best results on our validation dataset. We will use these parameters to train the model on the original training set (which includes the validation set) and then evaluate the model on the test set."
      ]
    },
    {
      "cell_type": "code",
      "metadata": {
        "id": "EJ4yxbuXU2x3",
        "colab": {
          "base_uri": "https://localhost:8080/"
        },
        "outputId": "8b4da788-fa16-4870-8f93-e89cae2bdbab"
      },
      "source": [
        "l1, l2 = 100, 50\n",
        "lr = 0.000025\n",
        "epochs = 25\n",
        "val = (x_val, y_val)\n",
        "model = Net(num_labels, vocab_size, l1, l2)\n",
        "losses, val_losses = train(model, x_train_orig, y_train_orig,\n",
        "                           epochs=epochs, \n",
        "                           lr=lr)\n",
        "\n",
        "y_pred = predict(model, x_test, train_words)\n",
        "print('Accuracy: %.4f' % metrics.accuracy_score(y_test, y_pred))\n",
        "print('Precision: %.4f' % metrics.precision_score(y_test, y_pred))\n",
        "print('Recall: %.4f' % metrics.recall_score(y_test, y_pred))"
      ],
      "execution_count": null,
      "outputs": [
        {
          "output_type": "stream",
          "text": [
            "Accuracy: 0.9763\n",
            "Precision: 0.9556\n",
            "Recall: 0.8731\n"
          ],
          "name": "stdout"
        }
      ]
    }
  ]
}